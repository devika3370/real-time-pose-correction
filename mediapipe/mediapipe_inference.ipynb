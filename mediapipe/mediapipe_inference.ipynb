{
 "cells": [
  {
   "cell_type": "markdown",
   "id": "a96e8a2e-d616-4f23-9872-081201a6ad94",
   "metadata": {},
   "source": [
    "### Inference on Yoga-82 dataset"
   ]
  },
  {
   "cell_type": "code",
   "execution_count": 31,
   "id": "6e7b79ac-8d81-4fd0-af6d-7b3877528132",
   "metadata": {},
   "outputs": [
    {
     "name": "stderr",
     "output_type": "stream",
     "text": [
      "I0000 00:00:1714855428.502507    2642 gl_context_egl.cc:85] Successfully initialized EGL. Major : 1 Minor: 5\n",
      "I0000 00:00:1714855428.532632    7141 gl_context.cc:357] GL version: 3.2 (OpenGL ES 3.2 NVIDIA 460.73.01), renderer: Tesla T4/PCIe/SSE2\n"
     ]
    },
    {
     "name": "stdout",
     "output_type": "stream",
     "text": [
      "Class =  chair_pose\n",
      "Class =  downward_facing_dog\n",
      "Class =  revolved_triangle\n",
      "Class =  half_moon\n",
      "Class =  tree_pose\n",
      "Average FPS: 11.224342935733754\n"
     ]
    }
   ],
   "source": [
    "import os\n",
    "import time\n",
    "import numpy as np\n",
    "import mediapipe as mp\n",
    "\n",
    "# Function to detect landmarks on an image\n",
    "def detect_landmarks(image_path, detector):\n",
    "    image = mp.Image.create_from_file(image_path)\n",
    "    start_time = time.time()\n",
    "    detection_result = detector.detect(image)\n",
    "    end_time = time.time()\n",
    "    inference_time = end_time - start_time\n",
    "    return detection_result, inference_time\n",
    "\n",
    "# Function to calculate FPS\n",
    "def calculate_fps(total_time, num_images):\n",
    "    return num_images / total_time\n",
    "\n",
    "# Function to iterate through images in folders and perform inference\n",
    "def process_images(folder_path, class_names):\n",
    "    base_options = python.BaseOptions(model_asset_path='pose_landmarker.task')\n",
    "    options = vision.PoseLandmarkerOptions(\n",
    "        base_options=base_options,\n",
    "        output_segmentation_masks=True)\n",
    "    detector = vision.PoseLandmarker.create_from_options(options)\n",
    "\n",
    "    total_time = 0\n",
    "    num_images = 0\n",
    "\n",
    "    for class_name in class_names:\n",
    "        print(\"Class = \", class_name)\n",
    "        class_path = os.path.join(folder_path, class_name)\n",
    "        for image_name in os.listdir(class_path):\n",
    "            if image_name.endswith('.jpg') or image_name.endswith('.png'):\n",
    "                image_path = os.path.join(class_path, image_name)\n",
    "                detection_result, inference_time = detect_landmarks(image_path, detector)\n",
    "                total_time += inference_time\n",
    "                num_images += 1\n",
    "                # Do whatever you want with the detection result\n",
    "                # For example, save annotated images or print keypoints\n",
    "\n",
    "    average_fps = calculate_fps(total_time, num_images)\n",
    "    print(\"Average FPS:\", average_fps)\n",
    "\n",
    "# Define your folder structure and class names\n",
    "folder_path = \"../final_dataset\"\n",
    "class_names = [\"chair_pose\", \"downward_facing_dog\", \"revolved_triangle\", \"half_moon\", \"tree_pose\"]\n",
    "\n",
    "# Process images and calculate average FPS\n",
    "process_images(folder_path, class_names)"
   ]
  }
 ],
 "metadata": {
  "kernelspec": {
   "display_name": "python3.9.19",
   "language": "python",
   "name": "python3.9.19"
  },
  "language_info": {
   "codemirror_mode": {
    "name": "ipython",
    "version": 3
   },
   "file_extension": ".py",
   "mimetype": "text/x-python",
   "name": "python",
   "nbconvert_exporter": "python",
   "pygments_lexer": "ipython3",
   "version": "3.9.19"
  }
 },
 "nbformat": 4,
 "nbformat_minor": 5
}
